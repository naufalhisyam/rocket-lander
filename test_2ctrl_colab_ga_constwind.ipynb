{
  "cells": [
    {
      "cell_type": "code",
      "execution_count": null,
      "metadata": {
        "colab": {
          "base_uri": "https://localhost:8080/"
        },
        "id": "akf6TN2AkqoZ",
        "outputId": "c576dfd4-cc39-4087-95bd-37d5aff7de7c"
      },
      "outputs": [],
      "source": [
        "from google.colab import drive\n",
        "drive.mount('/content/gdrive')"
      ]
    },
    {
      "cell_type": "code",
      "execution_count": null,
      "metadata": {
        "colab": {
          "base_uri": "https://localhost:8080/"
        },
        "id": "88rwG5jJkqoh",
        "outputId": "f8f1170c-59dc-4ea4-924d-b10c23bcc49a"
      },
      "outputs": [],
      "source": [
        "!apt install python-opengl\n",
        "!apt install ffmpeg\n",
        "!apt install xvfb\n",
        "\n",
        "!pip install swig\n",
        "!pip install cvxpy\n",
        "!pip install box2d-py\n",
        "!pip uninstall pyglet -y\n",
        "!pip uninstall gym -y\n",
        "!pip install pyglet==1.3.2\n",
        "!pip install gym==0.9.4\n",
        "!pip install pyvirtualdisplay\n",
        "!pip uninstall tensorflow\n",
        "!pip install tensorflow-gpu==1.15\n",
        "!apt install --allow-change-held-packages libcudnn7=7.4.1.5-1+cuda10.0"
      ]
    },
    {
      "cell_type": "code",
      "execution_count": null,
      "metadata": {
        "colab": {
          "base_uri": "https://localhost:8080/"
        },
        "id": "3a7qiEwAkqoi",
        "outputId": "303ece28-3d3c-432a-9357-86a56916488b"
      },
      "outputs": [],
      "source": [
        "!git clone -b switch https://github.com/naufalhisyam/rocket-lander.git\n",
        "%cd /content/rocket-lander\n",
        "!ls"
      ]
    },
    {
      "cell_type": "markdown",
      "metadata": {
        "id": "rjaxJz1Wvo0M"
      },
      "source": [
        "# Settings"
      ]
    },
    {
      "cell_type": "code",
      "execution_count": null,
      "metadata": {
        "id": "W8pbNajFvryJ"
      },
      "outputs": [],
      "source": [
        "NAME = 'ferrante' #Saved model name\n",
        "individu = 29 # see genesDict below for reference\n",
        "test_num = 'tes_angin_konstan4' #\n",
        "\n",
        "genesDict = {\n",
        "  17: [0,0,0,0,1,0,0,0,1,1],\n",
        "  29: [1,1,1,1,1,1,1,1,1,1],\n",
        "  36: [2,1,1,1,1,1,1,1,1,1],\n",
        "  52: [abs(1)/100,1,abs(1)/10,1,1,1,1,1,1,1],\n",
        "}\n",
        "\n",
        "genes = genesDict.get(individu)\n",
        "if len(genes) != 10:\n",
        "  raise Exception(\"incorrect genes size\")\n",
        "\n",
        "print(genes)"
      ]
    },
    {
      "cell_type": "code",
      "execution_count": null,
      "metadata": {},
      "outputs": [],
      "source": [
        "#The height where the controller switch to PID\n",
        "PID_SWITCH_HEIGHT = 5.72 \n",
        "\n",
        "#Wind Properties\n",
        "SIMULATE_WIND = True\n",
        "total_windstep = 50 #gives wind for total step\n",
        "wind_dir = 'right' #wind direction : 'left' or 'right'\n",
        "x_force = 5 # x-axis wind force in Newton\n",
        "y_force = 0 # y-axis wind force in Newton"
      ]
    },
    {
      "cell_type": "markdown",
      "metadata": {
        "id": "a6XLd3kunXY2"
      },
      "source": [
        "# Functions"
      ]
    },
    {
      "cell_type": "code",
      "execution_count": 1,
      "metadata": {
        "id": "HNgscr6Ukqoj"
      },
      "outputs": [],
      "source": [
        "def ckpt_path(model_dir, NAME):\n",
        "    with open(f\"{model_dir}/checkpoint\",'r+') as f:\n",
        "        # Reading the file data and store\n",
        "        # it in a file variable\n",
        "        file = f.read()\n",
        "            \n",
        "        # Replacing the pattern with the string\n",
        "        # in the file data\n",
        "        file = re.sub(r'DDPG/(.*?)/DDPG', f\"DDPG/{NAME}/DDPG\", file)\n",
        "\n",
        "        # Setting the position to the top\n",
        "        # of the page to insert data\n",
        "        f.seek(0)\n",
        "            \n",
        "        # Writing replaced data in the file\n",
        "        f.write(file)\n",
        "\n",
        "        # Truncating the file size\n",
        "        f.truncate()"
      ]
    },
    {
      "cell_type": "code",
      "execution_count": 2,
      "metadata": {
        "id": "5tu8ZzUukqon"
      },
      "outputs": [],
      "source": [
        "def plot(state_or_action,data):\n",
        "    #TEST RESULT: STATE\n",
        "    data_df = data\n",
        "    data_df['step'] = data_df.index\n",
        "    titles = {'step':'Waktu','x_pos':'Posisi Horizontal','y_pos':'Posisi Vertikal','x_vel':'Kepatan Horizontal','y_vel':'Kecepatan Vertikal',\n",
        "                'angle_deg':'Sudut Roket','angvel_deg':'Kecepatan Sudut','remaining_fuel':'Bahan Bakar',\n",
        "                'Fe':'Pendorong Bawah','Fs':'Pendorong Samping','Psi_deg':'Sudut Nozzle'}\n",
        "    labels = {'step':'Waktu (s)','x_pos':'Posisi Horizontal (m)','y_pos':'Posisi Vertikal (m)','x_vel':'Kepatan Horizontal (m/s)','y_vel':'Kecepatan Vertikal (m/s)',\n",
        "                'angle_deg':'Sudut Roket (deg)','angvel_deg':'Kecepatan Sudut (deg/s)','remaining_fuel':'Bahan Bakar (kg)',\n",
        "                'Fe':'Pendorong Bawah (N)','Fs':'Pendorong Samping (N)','Psi_deg':'Sudut Nozzle (deg)'}\n",
        "    \n",
        "    def main_plot(xx,yy):\n",
        "      images_dir = f\"{model_dir}/{test_num}/\"\n",
        "      if not os.path.exists(images_dir):\n",
        "        os.makedirs(images_dir)\n",
        "      xdata = data_df[xx]\n",
        "      ydata = data_df[yy]\n",
        "      xlabel = labels.get(xx)\n",
        "      ylabel = labels.get(yy)\n",
        "      xtitle = titles.get(xx)\n",
        "      ytitle = titles.get(yy)\n",
        "\n",
        "      import matplotlib\n",
        "      from matplotlib import pyplot as plt\n",
        "      matplotlib.use('Agg')\n",
        "      \n",
        "      filename = f\"{xx}_{yy}\"\n",
        "      title = f\"Individu {individu}\\n{xtitle} terhadap {ytitle}\"\n",
        "      plt.rcdefaults()\n",
        "      plt.clf()\n",
        "      plt.plot(xdata,ydata,'k')\n",
        "      plt.xlabel(xlabel)\n",
        "      plt.ylabel(ylabel)\n",
        "      plt.title(title)\n",
        "      plt.grid()\n",
        "      plt.savefig(f\"{images_dir}\" + filename + \".svg\")\n",
        "      plt.savefig(f\"{images_dir}\" + filename + \".png\")\n",
        "      plt.show()\n",
        "\n",
        "    if state_or_action == 'state': \n",
        "        main_plot('x_pos','y_pos')\n",
        "        main_plot('step','x_pos')\n",
        "        main_plot('step','y_pos')\n",
        "        main_plot('step','x_vel')\n",
        "        main_plot('step','y_vel')\n",
        "        main_plot('step','angle_deg')\n",
        "        main_plot('step','angvel_deg')\n",
        "        main_plot('step','remaining_fuel')\n",
        "    elif state_or_action == 'action':\n",
        "        main_plot('step','Fe')\n",
        "        main_plot('step','Fs')\n",
        "        main_plot('step','Psi_deg')"
      ]
    },
    {
      "cell_type": "code",
      "execution_count": 3,
      "metadata": {
        "id": "KZadJXlVkqoq"
      },
      "outputs": [],
      "source": [
        "def test(env, agent, pid, x_force, y_force):\n",
        "    obs_size = env.observation_space.shape[0]\n",
        "\n",
        "    util = Utils()\n",
        "    state_samples = get_state_sample(samples=5000, genes=genes, normal_state=True)\n",
        "    util.create_normalizer(state_sample=state_samples)\n",
        "    xpos, ypos, xvel, yvel, lander_angle, angular_vel, rem_fuel, lander_mass, xpos_rocket, ypos_rocket, xpos_landingPad, ypos_landingPad = ([] for _ in range(12))\n",
        "    fE, fS, pSi = ([] for _ in range(3))\n",
        "\n",
        "    angle_deg, angvel_deg = [],[]\n",
        "    psi_deg = []\n",
        "\n",
        "    rew, total_rew = [], []\n",
        "    shaping_pos, shaping_vel = [], []\n",
        "    shaping_ang, shaping_angvel = [], []\n",
        "    shaping_leftleg, shaping_rightleg = [], []\n",
        "    shaping_fe, shaping_fs = [], []\n",
        "    ep = []\n",
        "\n",
        "    if SIMULATE_WIND:\n",
        "        wind_x, wind_y = ([] for _ in range(2))\n",
        "    \n",
        "    for episode in range(1, NUM_EPISODES + 1):\n",
        "        old_state = None\n",
        "        done = False\n",
        "        total_reward = 0\n",
        "\n",
        "        state = env.reset()\n",
        "        state = util.normalize(state)\n",
        "        max_steps = 500\n",
        "\n",
        "        left_or_right_barge_movement = np.random.randint(0, 2)\n",
        "        \n",
        "        pid_switch = False #flag to denormalize state when switching to PID\n",
        "\n",
        "        for t in range(max_steps): # env.spec.max_episode_steps\n",
        "            old_state = state\n",
        "            \n",
        "            current_state = env.get_state_with_barge_and_landing_coordinates(untransformed_state=True)\n",
        "            current_y = current_state[1] - current_state[13] \n",
        "                \n",
        "            xpos.append(current_state[0]-current_state[12]) #xpos_rocket - xpos_landingPad\n",
        "            ypos.append(current_state[1]-current_state[13]) #ypos_rocket - ypos_landingPad\n",
        "            xvel.append(current_state[2]) #xdot\n",
        "            yvel.append(current_state[3]) #ydot\n",
        "            lander_angle.append(current_state[4]) #theta\n",
        "            angular_vel.append(current_state[5]) #theta_dot\n",
        "            angle_deg.append(np.degrees(current_state[4]))\n",
        "            angvel_deg.append(np.degrees(current_state[5]))\n",
        "            rem_fuel.append(current_state[6]) #initial fuel = 0.2 * initial_mass\n",
        "            lander_mass.append(current_state[7]) #initial_mass = 25.222\n",
        "            xpos_rocket.append(current_state[0]) # xpos_rocket\n",
        "            ypos_rocket.append(current_state[1]) # ypos_rocket\n",
        "            xpos_landingPad.append(current_state[12]) # xpos_landingPad\n",
        "            ypos_landingPad.append(current_state[13]) # ypos_landingPad\n",
        "            fE.append(action[0][0])\n",
        "            fS.append(action[0][1])\n",
        "            pSi.append(action[0][2])\n",
        "            psi_deg.append(np.degrees(action[0][2]))\n",
        "\n",
        "            # Use DDPG agent when the rocket is above the PID_SWITCH_HEIGHT\n",
        "            if current_y > PID_SWITCH_HEIGHT:\n",
        "                # infer an action\n",
        "                action = agent.get_action(np.reshape(state, (1, obs_size)), not TEST)\n",
        "                # Pass the action to the env and step through the simulation (1 step)\n",
        "                state, reward, done, _ = env.step(action[0])\n",
        "                state = util.normalize(state)\n",
        "                # print(\"Using DDPG\")\n",
        "        \n",
        "            # Use PID when the rocket is at or below the PID_SWITCH_HEIGHT    \n",
        "            else:\n",
        "                # print(\"Using PID\")\n",
        "                if pid_switch == False:\n",
        "                    # print(\"Denormalizing State\")\n",
        "                    state = util.denormalize(state)\n",
        "                    pid_switch = True\n",
        "                    \n",
        "                # pass the state to the algorithm, get the actions\n",
        "                action = pid.pid_algorithm(state) \n",
        "                # Pass the action to the env and step through the simulation (1 step).\n",
        "                # Refer to Simulation Update in constants.py\n",
        "                state, reward, done, _ = env.step(action)\n",
        "\n",
        "            total_reward += reward\n",
        "            \n",
        "            rew.append(reward)\n",
        "            shaping_pos.append(shaping_element[0])\n",
        "            shaping_vel.append(shaping_element[1])\n",
        "            shaping_ang.append(shaping_element[2])\n",
        "            shaping_angvel.append(shaping_element[3])\n",
        "            shaping_leftleg.append(shaping_element[4])\n",
        "            shaping_rightleg.append(shaping_element[5])\n",
        "            shaping_fe.append(shaping_element[6])\n",
        "            shaping_fs.append(shaping_element[7])\n",
        "\n",
        "            if SIMULATE_WIND:\n",
        "                if state[LEFT_GROUND_CONTACT] == 0 and state[RIGHT_GROUND_CONTACT] == 0:\n",
        "                    if t <= total_windstep:\n",
        "                        env.apply_random_x_disturbance(epsilon=2, left_or_right=wind_dir, x_force=x_force)\n",
        "                        if SAVE_TO_EXCEL:\n",
        "                            winds = env.get_winds_value()\n",
        "                            wind_x.append(winds[0])\n",
        "                            wind_y.append(winds[1])\n",
        "            \n",
        "\n",
        "            if done:\n",
        "                break\n",
        "\n",
        "        # agent.log_data(total_reward, episode)\n",
        "\n",
        "        print(\"Episode:\\t{0}\\tReward:\\t{1}\".format(episode, total_reward))\n",
        "    \n",
        "        if SAVE_REWARD:\n",
        "            total_rew.append(total_reward)\n",
        "            ep.append(episode)\n",
        "\n",
        "    if SAVE_REWARD:\n",
        "        os.makedirs(model_dir, exist_ok=True)\n",
        "        tot_reward=pd.DataFrame(list(zip(ep,total_rew)),\n",
        "                                 columns=['episode','total_reward'])\n",
        "        with pd.ExcelWriter(model_dir + f\"/DDPG_test-eps-rewards_{NAME}_{test_num}_{total_reward}_{len(ep)}.xlsx\") as writer:\n",
        "            tot_reward.to_excel(writer, sheet_name=f\"{NAME}_test-eps-rewards\")\n",
        "\n",
        "        reward_data=pd.DataFrame(list(zip(rew,\n",
        "                                          shaping_pos,\n",
        "                                          shaping_vel,\n",
        "                                          shaping_ang,\n",
        "                                          shaping_angvel,\n",
        "                                          shaping_leftleg,\n",
        "                                          shaping_rightleg,\n",
        "                                          shaping_fe,\n",
        "                                          shaping_fs)),\n",
        "                                 columns=['reward',\n",
        "                                          'shaping_pos',\n",
        "                                          'shaping_vel',\n",
        "                                          'shaping_ang',\n",
        "                                          'shaping_angvel',\n",
        "                                          'shaping_leftleg',\n",
        "                                          'shaping_rightleg',\n",
        "                                          'r_fe',\n",
        "                                          'r_fs'])\n",
        "        with pd.ExcelWriter(model_dir + f\"/DDPG_test-reward-element_{NAME}_{test_num}_{total_reward}_{len(ep)}.xlsx\") as writer:\n",
        "            reward_data.to_excel(writer, sheet_name=f\"{NAME}_test-eps-rewards\")\n",
        "\n",
        "    if SAVE_TO_EXCEL:\n",
        "        os.makedirs(model_dir, exist_ok=True)\n",
        "        state_data=pd.DataFrame(list(zip(xpos,ypos,xvel,yvel,lander_angle,angular_vel,angle_deg,angvel_deg,rem_fuel,lander_mass,xpos_rocket,ypos_rocket,xpos_landingPad,ypos_landingPad)),\\\n",
        "            columns=['x_pos','y_pos','x_vel','y_vel','lateral_angle','angular_velocity','angle_deg','angvel_deg','remaining_fuel','lander_mass','xpos_rocket','ypos_rocket','xpos_landingPad','ypos_landingPad'])\n",
        "        action_data=pd.DataFrame(list(zip(fE,fS,pSi,psi_deg)),columns=['Fe','Fs','Psi','Psi_deg'])\n",
        "        if SIMULATE_WIND:\n",
        "            wind_dat= pd.DataFrame(list(zip(wind_x, wind_y)),columns=['x_wind force', 'y_wind force'])\n",
        "                \n",
        "        with pd.ExcelWriter(model_dir + f\"/DDPG_{NAME}_{test_num}_{total_reward}.xlsx\") as writer:\n",
        "            state_data.to_excel(writer, sheet_name=\"state\")\n",
        "            action_data.to_excel(writer, sheet_name=\"action\")\n",
        "            if SIMULATE_WIND:\n",
        "                wind_dat.to_excel(writer, sheet_name=\"winds\")    \n",
        "        print(\"Steps:\", len(state_data)-1)\n",
        "        print(\"Logs saved\")\n",
        "    \n",
        "    env.close()\n",
        "    \n",
        "    # fig, ax = plt.subplots()\n",
        "    # ax.set_ylim(0,21)\n",
        "    # ax.set_xlim(-10,10)\n",
        "    # ax.plot(xpos, ypos, color='maroon')\n",
        "    # ax.axvline(x=0, c='gray', linewidth=0.7)\n",
        "    # ax.set_title('Rocket landing trajectory')\n",
        "    # ax.set_xlabel('x position (m)')\n",
        "    # ax.set_ylabel('y position (m)')\n",
        "    # ax.grid()\n",
        "    virtual_display.stop()\n",
        "    print(f\"X miss distance : {xpos[-1]}\\nY miss distance : {ypos[-1]}\")\n",
        "    print(f\"last X velocity : {xvel[-1]}\\nlast Y velocity : {yvel[-1]}\")\n",
        "    print(f\"last angle : {lander_angle[-1]}\\nlast angular velocity : {angular_vel[-1]}\")\n",
        "    plot('state',state_data)\n",
        "    plot('action',action_data)"
      ]
    },
    {
      "cell_type": "markdown",
      "metadata": {
        "id": "MoEk_McdnKbG"
      },
      "source": [
        "# Imports"
      ]
    },
    {
      "cell_type": "code",
      "execution_count": null,
      "metadata": {
        "colab": {
          "base_uri": "https://localhost:8080/"
        },
        "id": "6wEKQ0vpkqok",
        "outputId": "bc98dd22-bef8-4bf0-d251-cc8546222b9a"
      },
      "outputs": [],
      "source": [
        "# Virtual display\n",
        "from pyvirtualdisplay import Display\n",
        "\n",
        "virtual_display = Display(visible=0, size=(1000, 800))\n",
        "virtual_display.start()\n"
      ]
    },
    {
      "cell_type": "code",
      "execution_count": null,
      "metadata": {
        "colab": {
          "base_uri": "https://localhost:8080/"
        },
        "id": "R2zjGvNtkqol",
        "outputId": "86e62eb6-b3ad-4152-b083-66f5dacd3d1a"
      },
      "outputs": [],
      "source": [
        "%tensorflow_version 1.x\n",
        "%cd /content/rocket-lander\n",
        "\n",
        "import os\n",
        "import numpy as np\n",
        "from numpy.core.numeric import False_\n",
        "import pandas as pd\n",
        "import tensorflow as tf\n",
        "import matplotlib.pyplot as plt\n",
        "import re\n",
        "%matplotlib inline\n",
        "\n",
        "from control_and_ai.DDPG.ddpg import DDPG\n",
        "from control_and_ai.DDPG.utils import Utils\n",
        "from control_and_ai.DDPG.exploration import OUPolicy\n",
        "\n",
        "from control_and_ai.pid import PID_Benchmark\n",
        "\n",
        "from constants import *\n",
        "from constants import DEGTORAD\n",
        "from environments.rocketlander_test_ga_constwind import RocketLander, get_state_sample\n",
        "\n",
        "action_bounds = [1, 1, 15*DEGTORAD]\n",
        "\n",
        "eps = []\n",
        "eps.append(OUPolicy(0, 0.2, 0.4))\n",
        "eps.append(OUPolicy(0, 0.2, 0.4))\n",
        "eps.append(OUPolicy(0, 0.2, 0.4))\n",
        "\n",
        "simulation_settings = {'Side Engines': True,\n",
        "                       'Clouds': True,\n",
        "                       'Vectorized Nozzle': True,\n",
        "                       'Graph': False,\n",
        "                       'Render': False,\n",
        "                       'Starting Y-Pos Constant': 1,\n",
        "                       'Initial Force': 'random',\n",
        "                       'Rows': 1,\n",
        "                       'Columns': 2,\n",
        "                       'Episodes': 500,\n",
        "                       'Genes': genes}\n",
        "\n",
        "env = RocketLander(simulation_settings)\n",
        "#env = wrappers.Monitor(env, './rocket_videos', force=True)\n",
        "\n",
        "#Set both line below to False if you want to contniue training from a saved checkpoint\n",
        "RETRAIN = False#Restore weights if False\n",
        "TEST = True #Test the model\n",
        "\n",
        "NUM_EPISODES = 1\n",
        "SAVE_TO_EXCEL = True #Export states & actions logs as .xlsx\n",
        "SAVE_REWARD = True\n",
        "\n",
        "model_dir = '/content/gdrive/MyDrive/colab_model/rocket/DDPG/' + NAME\n",
        "ckpt_path(model_dir,NAME)\n",
        "\n",
        "agent = DDPG(\n",
        "    action_bounds,\n",
        "    eps,\n",
        "    env.observation_space.shape[0], #for first model\n",
        "    actor_learning_rate=0.001,\n",
        "    critic_learning_rate=0.01,\n",
        "    retrain=RETRAIN,\n",
        "    log_dir=\"./logs\",\n",
        "    model_dir=model_dir,\n",
        "    batch_size=100,\n",
        "    gamma=0.99)\n",
        "\n",
        "#Initialize PID algorithm\n",
        "pid = PID_Benchmark()"
      ]
    },
    {
      "cell_type": "markdown",
      "metadata": {
        "id": "QctJAEggm7Vq"
      },
      "source": [
        "# Main"
      ]
    },
    {
      "cell_type": "code",
      "execution_count": null,
      "metadata": {
        "colab": {
          "base_uri": "https://localhost:8080/"
        },
        "id": "mUCCACLukqor",
        "outputId": "3ee8a98a-0836-4eaf-f4ba-994e0778c6d2"
      },
      "outputs": [],
      "source": [
        "print('NAME:',NAME)\n",
        "print('test_num:',test_num)\n",
        "test(env, agent, pid, x_force, y_force)"
      ]
    }
  ],
  "metadata": {
    "colab": {
      "name": "test_ddpg_colab_ga.ipynb",
      "provenance": []
    },
    "kernelspec": {
      "display_name": "ferrante",
      "language": "python",
      "name": "python3"
    },
    "language_info": {
      "codemirror_mode": {
        "name": "ipython",
        "version": 3
      },
      "file_extension": ".py",
      "mimetype": "text/x-python",
      "name": "python",
      "nbconvert_exporter": "python",
      "pygments_lexer": "ipython3",
      "version": "3.6.13 |Anaconda, Inc.| (default, Mar 16 2021, 11:37:27) [MSC v.1916 64 bit (AMD64)]"
    },
    "orig_nbformat": 4,
    "vscode": {
      "interpreter": {
        "hash": "b97a564875625bedda7c3957efd619651f86949a28acd871a9eb870d4ff748f2"
      }
    }
  },
  "nbformat": 4,
  "nbformat_minor": 0
}
